{
 "cells": [
  {
   "cell_type": "code",
   "execution_count": 1,
   "id": "ce94c787-7ec4-43ae-b11a-652e339e4a65",
   "metadata": {},
   "outputs": [
    {
     "name": "stderr",
     "output_type": "stream",
     "text": [
      "WARNING:absl:Compiled the loaded model, but the compiled metrics have yet to be built. `model.compile_metrics` will be empty until you train or evaluate the model.\n"
     ]
    }
   ],
   "source": [
    "from tensorflow.keras.models import load_model\n",
    "\n",
    "# Load the model\n",
    "model = load_model('model1.h5')\n",
    "\n",
    "# Remove the 'groups' argument from all DepthwiseConv2D layers\n",
    "# for layer in model.layers:\n",
    "#     if isinstance(layer, DepthwiseConv2D):\n",
    "#         layer_config = layer.get_config()\n",
    "#         if 'groups' in layer_config:\n",
    "#             del layer_config['groups']\n",
    "#             new_layer = DepthwiseConv2D.from_config(layer_config)\n",
    "#             model.layers[model.layers.index(layer)] = new_layer\n",
    "\n",
    "# Save the modified model\n",
    "# model.save('model1.h5')\n"
   ]
  },
  {
   "cell_type": "code",
   "execution_count": 4,
   "id": "fe6eebf5-baad-4e5b-ad98-6e9c41a40122",
   "metadata": {},
   "outputs": [
    {
     "name": "stdout",
     "output_type": "stream",
     "text": [
      "\u001b[1m1/1\u001b[0m \u001b[32m━━━━━━━━━━━━━━━━━━━━\u001b[0m\u001b[37m\u001b[0m \u001b[1m0s\u001b[0m 43ms/step\n",
      "Predicted class: class3\n"
     ]
    }
   ],
   "source": [
    "from tensorflow.keras.preprocessing import image\n",
    "import numpy as np\n",
    "\n",
    "# Load the image\n",
    "img_path = 'lungscc4032.jpeg'\n",
    "img = image.load_img(img_path, target_size=(224, 224))  # Assuming target size is (224, 224)\n",
    "\n",
    "# Preprocess the image\n",
    "img_array = image.img_to_array(img)\n",
    "img_array = np.expand_dims(img_array, axis=0)  # Add batch dimension\n",
    "# img_array = preprocess_input(img_array)  # Preprocess input (e.g., normalize)\n",
    "\n",
    "# Make a prediction\n",
    "predictions = model.predict(img_array)\n",
    "\n",
    "# Assuming num_of_disease is the number of classes in your model\n",
    "num_of_disease = 3\n",
    "predicted_class = np.argmax(predictions, axis=1)[0]  # Get the predicted class index\n",
    "class_labels = ['class1', 'class2', 'class3']  # Replace with your actual class labels\n",
    "predicted_label = class_labels[predicted_class]  # Get the predicted class label\n",
    "\n",
    "print(\"Predicted class:\", predicted_label)\n"
   ]
  },
  {
   "cell_type": "code",
   "execution_count": null,
   "id": "cee997e8-9738-465b-a925-0d857bd96e5b",
   "metadata": {},
   "outputs": [],
   "source": []
  }
 ],
 "metadata": {
  "kernelspec": {
   "display_name": "Python 3 (ipykernel)",
   "language": "python",
   "name": "python3"
  },
  "language_info": {
   "codemirror_mode": {
    "name": "ipython",
    "version": 3
   },
   "file_extension": ".py",
   "mimetype": "text/x-python",
   "name": "python",
   "nbconvert_exporter": "python",
   "pygments_lexer": "ipython3",
   "version": "3.12.2"
  }
 },
 "nbformat": 4,
 "nbformat_minor": 5
}
